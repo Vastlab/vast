{
 "cells": [
  {
   "cell_type": "code",
   "execution_count": 1,
   "id": "f57428f9-0266-4888-bd51-1edc8ee70729",
   "metadata": {},
   "outputs": [],
   "source": [
    "from matplotlib import pyplot as plt\n",
    "%matplotlib inline"
   ]
  },
  {
   "cell_type": "code",
   "execution_count": 15,
   "id": "fd00d461-2125-41bd-8b33-bbdd3c83a23f",
   "metadata": {},
   "outputs": [],
   "source": [
    "import torch\n",
    "import numpy as np\n",
    "import libmr\n",
    "from vast.DistributionModels import weibull"
   ]
  },
  {
   "cell_type": "code",
   "execution_count": 6,
   "id": "de771b95-bbfd-44b7-8316-39210105b3ca",
   "metadata": {},
   "outputs": [],
   "source": [
    "training_data = np.random.randn(100)\n",
    "testing_data = np.arange(-5,10,0.01)"
   ]
  },
  {
   "cell_type": "code",
   "execution_count": 7,
   "id": "dacf97e6-df0e-4b03-9c0f-1e7c875af10a",
   "metadata": {},
   "outputs": [],
   "source": [
    "tailsize = 20"
   ]
  },
  {
   "cell_type": "code",
   "execution_count": 12,
   "id": "ccc625f7-df82-427e-a7ec-e5f740acd89b",
   "metadata": {},
   "outputs": [],
   "source": [
    "mr = libmr.MR()\n",
    "mr.fit_high(training_data, tailsize)\n",
    "libmr_predictions = mr.w_score_vector(testing_data)"
   ]
  },
  {
   "cell_type": "code",
   "execution_count": 18,
   "id": "1dd44379-fada-4c8e-9e76-7585d05d867d",
   "metadata": {},
   "outputs": [],
   "source": [
    "mr = weibull.weibull()\n",
    "mr.FitHigh(torch.tensor(training_data)[None,:], tailsize)\n",
    "vast_predictions = mr.wscore(torch.tensor(testing_data)[:,None])"
   ]
  },
  {
   "cell_type": "code",
   "execution_count": 19,
   "id": "8732c171-57ec-4ec8-af6d-b5a62768bf63",
   "metadata": {},
   "outputs": [
    {
     "data": {
      "text/plain": [
       "[<matplotlib.lines.Line2D at 0x7fc39137f6d0>]"
      ]
     },
     "execution_count": 19,
     "metadata": {},
     "output_type": "execute_result"
    },
    {
     "data": {
      "image/png": "[encoded data removed]",
      "text/plain": [
       "<Figure size 432x288 with 1 Axes>"
      ]
     },
     "metadata": {
      "needs_background": "light"
     },
     "output_type": "display_data"
    }
   ],
   "source": [
    "plt.plot(testing_data, libmr_predictions, label='libmr')\n",
    "plt.plot(testing_data, vast_predictions, label='vast')"
   ]
  },
  {
   "cell_type": "code",
   "execution_count": null,
   "id": "40331634-0a11-4a36-9201-66c71da7e2d4",
   "metadata": {},
   "outputs": [],
   "source": []
  }
 ],
 "metadata": {
  "kernelspec": {
   "display_name": "Python 3 (ipykernel)",
   "language": "python",
   "name": "python3"
  },
  "language_info": {
   "codemirror_mode": {
    "name": "ipython",
    "version": 3
   },
   "file_extension": ".py",
   "mimetype": "text/x-python",
   "name": "python",
   "nbconvert_exporter": "python",
   "pygments_lexer": "ipython3",
   "version": "3.8.3"
  }
 },
 "nbformat": 4,
 "nbformat_minor": 5
}
