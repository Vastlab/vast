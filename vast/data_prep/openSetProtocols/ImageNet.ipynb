{
 "cells": [
  {
   "cell_type": "markdown",
   "metadata": {},
   "source": [
    "### This notebook only provides the code for creating an openset ImageNet protocol"
   ]
  },
  {
   "cell_type": "code",
   "execution_count": 1,
   "metadata": {},
   "outputs": [],
   "source": [
    "# https://github.com/ipython/ipython/issues/10493#issuecomment-392549088\n",
    "%config IPCompleter.use_jedi = False"
   ]
  },
  {
   "cell_type": "code",
   "execution_count": 2,
   "metadata": {},
   "outputs": [],
   "source": [
    "from itertools import zip_longest\n",
    "from glob import glob\n",
    "import csv\n",
    "import random\n",
    "random.seed(0)"
   ]
  },
  {
   "cell_type": "markdown",
   "metadata": {},
   "source": [
    "### Set some parameters"
   ]
  },
  {
   "cell_type": "code",
   "execution_count": 3,
   "metadata": {},
   "outputs": [],
   "source": [
    "Images_root_diectory=\"/net/kato/store2/ImageNet/ILSVRC_2012\" # Do Not include slash at the end\n",
    "Output_directory = \"/home/adhamija/ImageNet_Dali/protocol_corrected/\"\n",
    "no_of_knowns=300\n",
    "no_of_known_unknowns=350\n",
    "no_of_unknowns=350\n",
    "percentage_of_training_samples=0.8\n",
    "percentage_of_validation_samples=1-percentage_of_training_samples"
   ]
  },
  {
   "cell_type": "code",
   "execution_count": 4,
   "metadata": {},
   "outputs": [],
   "source": [
    "assert (no_of_knowns+no_of_known_unknowns+no_of_unknowns) == 1000"
   ]
  },
  {
   "cell_type": "markdown",
   "metadata": {},
   "source": [
    "##### Find all KNowns, Known Unknowns & Unknown unknowns"
   ]
  },
  {
   "cell_type": "code",
   "execution_count": 5,
   "metadata": {},
   "outputs": [],
   "source": [
    "all_classes=glob(f\"{Images_root_diectory}/train/*/\")\n",
    "all_classes = [_.split('/')[-2] for _ in all_classes]\n",
    "random.shuffle(all_classes)"
   ]
  },
  {
   "cell_type": "code",
   "execution_count": 6,
   "metadata": {},
   "outputs": [],
   "source": [
    "known_classes = all_classes[:no_of_knowns]\n",
    "KU_classes = all_classes[no_of_knowns:(no_of_known_unknowns+no_of_knowns)]\n",
    "unknown_classes = all_classes[(-1*no_of_unknowns):]"
   ]
  },
  {
   "cell_type": "code",
   "execution_count": 7,
   "metadata": {},
   "outputs": [
    {
     "data": {
      "text/plain": [
       "(300, 350, 350)"
      ]
     },
     "execution_count": 7,
     "metadata": {},
     "output_type": "execute_result"
    }
   ],
   "source": [
    "len(known_classes),len(KU_classes),len(unknown_classes)"
   ]
  },
  {
   "cell_type": "code",
   "execution_count": 8,
   "metadata": {},
   "outputs": [],
   "source": [
    "assert len(set(known_classes).intersection(set(KU_classes)))==0\n",
    "assert len(set(known_classes).intersection(set(unknown_classes)))==0\n",
    "assert len(set(unknown_classes).intersection(set(KU_classes)))==0"
   ]
  },
  {
   "cell_type": "code",
   "execution_count": 9,
   "metadata": {},
   "outputs": [],
   "source": [
    "class_mappings=dict(zip(known_classes,range(len(known_classes))))"
   ]
  },
  {
   "cell_type": "markdown",
   "metadata": {},
   "source": [
    "Create CSV for Knowns training and validation set "
   ]
  },
  {
   "cell_type": "code",
   "execution_count": 10,
   "metadata": {},
   "outputs": [],
   "source": [
    "knowns_training_list=[]\n",
    "knowns_validation_list=[]\n",
    "for cls_name in known_classes:\n",
    "    image_names=glob(f\"{Images_root_diectory}/train/{cls_name}/*\")\n",
    "    image_names=[i.split(f\"{Images_root_diectory}/\")[-1] for i in image_names]\n",
    "    image_rows=list(zip_longest(image_names,[],fillvalue=class_mappings[cls_name]))    \n",
    "    knowns_training_list.extend(image_rows[:int(len(image_rows)*percentage_of_training_samples)])\n",
    "    knowns_validation_list.extend(image_rows[int(len(image_rows)*percentage_of_training_samples):])\n",
    "    \n",
    "with open(f\"{Output_directory}/train_knowns.csv\", \"w\") as f:\n",
    "    writer = csv.writer(f)\n",
    "    writer.writerows(knowns_training_list)\n",
    "with open(f\"{Output_directory}/val_knowns.csv\", \"w\") as f:\n",
    "    writer = csv.writer(f)\n",
    "    writer.writerows(knowns_validation_list)"
   ]
  },
  {
   "cell_type": "code",
   "execution_count": 11,
   "metadata": {},
   "outputs": [
    {
     "data": {
      "text/plain": [
       "(306776, 76714)"
      ]
     },
     "execution_count": 11,
     "metadata": {},
     "output_type": "execute_result"
    }
   ],
   "source": [
    "len(knowns_training_list),len(knowns_validation_list)"
   ]
  },
  {
   "cell_type": "markdown",
   "metadata": {},
   "source": [
    "Create CSV for Known Unknowns training and validation set "
   ]
  },
  {
   "cell_type": "code",
   "execution_count": 12,
   "metadata": {},
   "outputs": [],
   "source": [
    "knowns_training_list=[]\n",
    "knowns_validation_list=[]\n",
    "for cls_name in KU_classes:\n",
    "    image_names=glob(f\"{Images_root_diectory}/train/{cls_name}/*\")\n",
    "    image_names=[i.split(f\"{Images_root_diectory}/\")[-1] for i in image_names]\n",
    "    image_rows=list(zip_longest(image_names,[],fillvalue=-1))\n",
    "    knowns_training_list.extend(image_rows[:int(len(image_rows)*percentage_of_training_samples)])\n",
    "    knowns_validation_list.extend(image_rows[int(len(image_rows)*percentage_of_training_samples):])\n",
    "    \n",
    "with open(f\"{Output_directory}/train_knownUnknowns.csv\", \"w\") as f:\n",
    "    writer = csv.writer(f)\n",
    "    writer.writerows(knowns_training_list)\n",
    "with open(f\"{Output_directory}/val_knownUnknowns.csv\", \"w\") as f:\n",
    "    writer = csv.writer(f)\n",
    "    writer.writerows(knowns_validation_list)"
   ]
  },
  {
   "cell_type": "code",
   "execution_count": 13,
   "metadata": {},
   "outputs": [
    {
     "data": {
      "text/plain": [
       "(359515, 89894)"
      ]
     },
     "execution_count": 13,
     "metadata": {},
     "output_type": "execute_result"
    }
   ],
   "source": [
    "len(knowns_training_list),len(knowns_validation_list)"
   ]
  },
  {
   "cell_type": "markdown",
   "metadata": {},
   "source": [
    "Create CSV for Knowns, Known Unknowns and Unknown Unknowns for testing"
   ]
  },
  {
   "cell_type": "code",
   "execution_count": 14,
   "metadata": {},
   "outputs": [],
   "source": [
    "knowns_test_list=[]\n",
    "for cls_name in known_classes:\n",
    "    image_names=glob(f\"{Images_root_diectory}/val_in_folders/{cls_name}/*\")\n",
    "    image_names=[i.split(f\"{Images_root_diectory}/\")[-1] for i in image_names]\n",
    "    image_rows=list(zip_longest(image_names,[],fillvalue=class_mappings[cls_name]))\n",
    "    knowns_test_list.extend(image_rows)\n",
    "\n",
    "with open(f\"{Output_directory}/test_knowns.csv\", \"w\") as f:\n",
    "    writer = csv.writer(f)\n",
    "    writer.writerows(knowns_test_list)\n",
    "\n",
    "known_unknowns_test_list=[]\n",
    "for cls_name in KU_classes:\n",
    "    image_names=glob(f\"{Images_root_diectory}/val_in_folders/{cls_name}/*\")\n",
    "    image_names=[i.split(f\"{Images_root_diectory}/\")[-1] for i in image_names]\n",
    "    image_rows=list(zip_longest(image_names,[],fillvalue=-1))\n",
    "    known_unknowns_test_list.extend(image_rows)\n",
    "    \n",
    "with open(f\"{Output_directory}/test_knownUnknowns.csv\", \"w\") as f:\n",
    "    writer = csv.writer(f)\n",
    "    writer.writerows(known_unknowns_test_list)\n",
    "\n",
    "unknowns_test_list=[]\n",
    "for cls_name in unknown_classes:\n",
    "    image_names=glob(f\"{Images_root_diectory}/val_in_folders/{cls_name}/*\")\n",
    "    image_names=[i.split(f\"{Images_root_diectory}/\")[-1] for i in image_names]\n",
    "    image_rows=list(zip_longest(image_names,[],fillvalue=-2))\n",
    "    unknowns_test_list.extend(image_rows)\n",
    "with open(f\"{Output_directory}/test_unknowns.csv\", \"w\") as f:\n",
    "    writer = csv.writer(f)\n",
    "    writer.writerows(unknowns_test_list)"
   ]
  },
  {
   "cell_type": "code",
   "execution_count": null,
   "metadata": {},
   "outputs": [],
   "source": []
  }
 ],
 "metadata": {
  "kernelspec": {
   "display_name": "Python 3",
   "language": "python",
   "name": "python3"
  },
  "language_info": {
   "codemirror_mode": {
    "name": "ipython",
    "version": 3
   },
   "file_extension": ".py",
   "mimetype": "text/x-python",
   "name": "python",
   "nbconvert_exporter": "python",
   "pygments_lexer": "ipython3",
   "version": "3.7.3"
  }
 },
 "nbformat": 4,
 "nbformat_minor": 4
}
